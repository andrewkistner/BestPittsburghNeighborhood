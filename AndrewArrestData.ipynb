{
 "cells": [
  {
   "cell_type": "markdown",
   "metadata": {},
   "source": [
    " # Using Pittsburgh Police Arrest Data to Choose The Best Pittsburgh Neighborhood"
   ]
  },
  {
   "cell_type": "markdown",
   "metadata": {},
   "source": [
    "I think the best metric to use to determine the best neighborhood based off of arrest reports is simply the number of arrests. So each arrest is equal to 1 point, and the neighborhood with the least number of points is the safest and best neighborhood. Alternatively, it is possible to put in place a metric where some crimes are worth more points than others (Assault = 5 points and Public Intoxication = 2 points). This system would be flawed in that I would be determining what crimes are more or less abhorrent than others. Since I do not have a law degree and there are hundreds of unique arrest possibilities, I chose to keep the metric simple by recording the number of arrests per neighborhood."
   ]
  },
  {
   "cell_type": "code",
   "execution_count": 3,
   "metadata": {},
   "outputs": [
    {
     "name": "stdout",
     "output_type": "stream",
     "text": [
      "['Bloomfield' 'Outside City' 'Westwood' 'East Allegheny' 'Crafton Heights'\n",
      " 'Greenfield' 'Brookline' 'Regent Square' 'East Liberty' nan 'East Hills'\n",
      " 'Carrick' 'Allegheny Center' 'South Side Flats' 'Sheraden'\n",
      " 'East Carnegie' 'Golden Triangle/Civic Arena' 'Point Breeze North'\n",
      " 'Perry South' 'Allentown' 'North Shore' 'Marshall-Shadeland'\n",
      " 'Central Oakland' 'Middle Hill' 'Strip District'\n",
      " 'Lincoln-Lemington-Belmar' 'Central Northside' 'Troy Hill-Herrs Island'\n",
      " 'Highland Park' 'Homewood North' 'Northview Heights' 'Brighton Heights'\n",
      " 'Hazelwood' 'Perry North' 'Bedford Dwellings' 'Elliott' 'Beechview'\n",
      " 'Fineview' 'Glen Hazel' 'Spring Hill-City View' 'Bluff' 'Manchester'\n",
      " 'Homewood West' 'Outside County' 'Point Breeze' 'Homewood South'\n",
      " 'Squirrel Hill South' 'Terrace Village' 'Upper Lawrenceville' 'Arlington'\n",
      " 'South Side Slopes' 'Lower Lawrenceville' 'Garfield' 'Lincoln Place'\n",
      " 'Larimer' 'Mount Washington' 'California-Kirkbride' 'Banksville'\n",
      " 'Bon Air' 'South Shore' 'Beltzhoover' 'Knoxville' 'Chateau'\n",
      " 'Crawford-Roberts' 'Polish Hill' 'Fairywood' 'West End' 'Shadyside'\n",
      " 'Morningside' 'Overbrook' 'Friendship' 'North Oakland'\n",
      " 'Central Lawrenceville' 'Oakwood' 'Upper Hill' 'South Oakland'\n",
      " 'West Oakland' 'Spring Garden' 'Allegheny West' 'St. Clair'\n",
      " 'Stanton Heights' 'Esplen' 'Squirrel Hill North'\n",
      " 'Mt. Oliver Neighborhood' 'Summer Hill' 'Arlington Heights' 'Troy Hill'\n",
      " 'Central Business District' 'Central North Side' 'Mount Oliver' 'Windgap'\n",
      " 'Outside State' 'Duquesne Heights' 'New Homestead' 'Ridgemont'\n",
      " 'Swisshelm Park' 'Hays' 'Chartiers City' 'Mt. Oliver Boro']\n",
      "-------------------------------------------------------------------\n",
      "The number of unique neighborhoods:  99\n"
     ]
    }
   ],
   "source": [
    "import pandas as pd\n",
    "import numpy as np\n",
    "from geopy.geocoders import Nominatim\n",
    "import geopy\n",
    "import matplotlib.pyplot as plt\n",
    "\n",
    "arrest_reports = pd.read_csv(\"pittarrestsdata.csv\") #read the dataset\n",
    "\n",
    "unarray = arrest_reports['INCIDENTNEIGHBORHOOD'].unique() #number of unique neighborhoods = 99\n",
    "\n",
    "print(unarray)\n",
    "print(\"-------------------------------------------------------------------\")\n",
    "print(\"The number of unique neighborhoods: \", len(unarray))\n",
    "\n"
   ]
  },
  {
   "cell_type": "markdown",
   "metadata": {},
   "source": [
    "## **The output from the code cell above will show us how many neighborhoods the Pittsburgh Police use to record arrests. There are 99 neighborhoods and each is listed above in an array.**"
   ]
  },
  {
   "cell_type": "code",
   "execution_count": 4,
   "metadata": {},
   "outputs": [
    {
     "name": "stdout",
     "output_type": "stream",
     "text": [
      "Central Business District    2886\n",
      "South Side Flats             2421\n",
      "Carrick                      1699\n",
      "East Allegheny               1580\n",
      "Homewood South               1558\n",
      "                             ... \n",
      "Central Northside              23\n",
      "Regent Square                  23\n",
      "Mt. Oliver Boro                17\n",
      "Troy Hill-Herrs Island          6\n",
      "Mt. Oliver Neighborhood         2\n",
      "Name: INCIDENTNEIGHBORHOOD, Length: 98, dtype: int64\n"
     ]
    }
   ],
   "source": [
    "#all neighborhoods in dataset including duplicates\n",
    "num_array = arrest_reports['INCIDENTNEIGHBORHOOD'] #grab every neighborhood including duplicates\n",
    "arrest_counts = pd.Series(num_array).value_counts() #count the number of times a neighborhood appears\n",
    "print(arrest_counts)"
   ]
  },
  {
   "cell_type": "markdown",
   "metadata": {},
   "source": [
    "## **Using a series that includes every neighborhood including duplicates, we use the value_counts function to record how many times each neighborhood appears in the series. The top and bottom 5 neighborhoods in terms of number of arrests are listed above.**"
   ]
  },
  {
   "cell_type": "markdown",
   "metadata": {},
   "source": [
    "Now this data is interesting, but is it actually useful?... Not really. The bottom five neighborhood might have fewer than 30 arrests because there could be only 100 people in the neighborhood. It is unfair to compare a neighborhood with 20,000 residents to another with 100. To make this data useful, we will need to find the population of the 10 neighborhoods listed above and form a percentage of residents arrested. For example, if Oakland has 100 residents and there were 10 arrests, then there is an arrest rate of 10%. After calculating these arrest rates, we will compare the ten neighborhoods to determine the safest and best."
   ]
  },
  {
   "cell_type": "markdown",
   "metadata": {},
   "source": [
    "- Central Business District: (2,886/**5,201**) * 100 =------------------------>55.49%\n",
    "- South Side Flats: (2,421/**6,736**) * 100 =--------------------------------->35.94%\n",
    "- Carrick: (1,699/**15,642**) * 100 =----------------------------------------->10.86%\n",
    "- East Allegheny: (1,580/**2,136**) * 100 =----------------------------------->73.97%\n",
    "- Homewood South: (1,558/**3,662**) * 100 =----------------------------------->42.55%\n",
    "\n",
    "- Regent Square: (23/**4,067**) * 100 =--------------------------------------->0.57%\n",
    "- Central Northside: (23/**2,959**) * 100 =----------------------------------->0.78%\n",
    "- Mt. Oliver Boro and Mt. Oliver Neighborhood: (19/**3,324**) * 100 =--------->0.57%\n",
    "- Troy Hill-Herrs Island: (6/**2,714**) * 100 =------------------------------->0.22%"
   ]
  },
  {
   "cell_type": "code",
   "execution_count": 5,
   "metadata": {},
   "outputs": [
    {
     "data": {
      "image/png": "[encoded data removed]",
      "text/plain": [
       "<Figure size 432x288 with 1 Axes>"
      ]
     },
     "metadata": {
      "needs_background": "light"
     },
     "output_type": "display_data"
    }
   ],
   "source": [
    "neighborhood = ['Central Business District', 'South Side Flats', 'Carrick', 'East Allegheny', 'Homewood South']\n",
    "arrest_rate = [55.49, 35.94, 10.86, 73.79, 42.55]\n",
    "plt.bar(neighborhood, arrest_rate)\n",
    "plt.title('Highest Arrest Rate')\n",
    "plt.xlabel('Neighborhoods')\n",
    "plt.ylabel('Arrest Rate in %')\n",
    "plt.show()"
   ]
  },
  {
   "cell_type": "code",
   "execution_count": 6,
   "metadata": {},
   "outputs": [
    {
     "data": {
      "image/png": "[encoded data removed]",
      "text/plain": [
       "<Figure size 432x288 with 1 Axes>"
      ]
     },
     "metadata": {
      "needs_background": "light"
     },
     "output_type": "display_data"
    }
   ],
   "source": [
    "neighborhood2 = ['Regent Square', 'Central Northside', 'Mt. Oliver', 'Troy Hill']\n",
    "arrests2 = [0.57, 0.78, 0.57, 0.22]\n",
    "plt.bar(neighborhood2, arrests2)\n",
    "plt.title('Lowest Arrest Rate')\n",
    "plt.xlabel('Neighborhoods')\n",
    "plt.ylabel('Arrest Rate in %')\n",
    "plt.show()"
   ]
  },
  {
   "cell_type": "code",
   "execution_count": null,
   "metadata": {},
   "outputs": [],
   "source": []
  }
 ],
 "metadata": {
  "kernelspec": {
   "display_name": "Python 3",
   "language": "python",
   "name": "python3"
  },
  "language_info": {
   "codemirror_mode": {
    "name": "ipython",
    "version": 3
   },
   "file_extension": ".py",
   "mimetype": "text/x-python",
   "name": "python",
   "nbconvert_exporter": "python",
   "pygments_lexer": "ipython3",
   "version": "3.8.5"
  }
 },
 "nbformat": 4,
 "nbformat_minor": 4
}
