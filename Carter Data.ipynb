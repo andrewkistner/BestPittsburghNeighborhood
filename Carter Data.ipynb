{
 "cells": [
  {
   "cell_type": "markdown",
   "metadata": {},
   "source": [
    "**Carter's Data**\n",
    "\n",
    "I looked at two factors: education and income. Personally, I think this would help me decide where I want to live because I want to be around well educated people that are smart with money."
   ]
  },
  {
   "cell_type": "code",
   "execution_count": null,
   "metadata": {},
   "outputs": [],
   "source": [
    "import pandas as pd\n",
    "\n",
    "bud = pd.read_csv(\"education-income.csv\")\n",
    "bud.head(10)"
   ]
  },
  {
   "cell_type": "markdown",
   "metadata": {},
   "source": [
    "**Median Income**\n",
    "\n",
    "Outputs the DataFrame but sorted by Median Income."
   ]
  },
  {
   "cell_type": "code",
   "execution_count": null,
   "metadata": {},
   "outputs": [],
   "source": [
    "amt = pd.read_csv(\"education-income.csv\", index_col = \"Neighborhood\")\n",
    "amtsrt = amt.sort_values(by = [\"2009 Med. Income ('13 Dollars)\"], ascending = False)\n",
    "amtsrt.head(10)"
   ]
  },
  {
   "cell_type": "markdown",
   "metadata": {},
   "source": [
    "**Population Under Poverty**\n",
    "\n",
    "\n",
    "The code below is supposed to output a plotly scatter plot of Population Under Poverty vs Population. However, it sometimes just outputs nothing, so I included a screenshot of what it looks like."
   ]
  },
  {
   "cell_type": "code",
   "execution_count": null,
   "metadata": {},
   "outputs": [],
   "source": [
    "import plotly.express as px\n",
    "import plotly.io as pio\n",
    "import pandas as pd\n",
    "amt = pd.read_csv(\"education-income.csv\", index_col = \"Neighborhood\")\n",
    "\n",
    "amtsrt = amt.sort_values(by=['Est. Percent Under Poverty (2010)'], ascending=False)\n",
    "\n",
    "spt = px.scatter(amtsrt, x = \"Est. Pop. Under Poverty (2010)\", y = \"Population (2010)\")\n",
    "pio.renderers.default='notebook'\n",
    "spt.show(\"notebook\")"
   ]
  },
  {
   "cell_type": "code",
   "execution_count": null,
   "metadata": {},
   "outputs": [],
   "source": [
    "from IPython.display import Image\n",
    "Image(\"Screenshot (6).png\")"
   ]
  },
  {
   "cell_type": "markdown",
   "metadata": {},
   "source": [
    "**Conclusion**\n",
    "\n",
    "Looking at the data, Regent Squa looks like my choice. Of the top ten Median Income neighborhoods, it had one of the lowest Population under Poverty percentages and one of the highest populations. "
   ]
  }
 ],
 "metadata": {
  "kernelspec": {
   "display_name": "Python 3",
   "language": "python",
   "name": "python3"
  },
  "language_info": {
   "codemirror_mode": {
    "name": "ipython",
    "version": 3
   },
   "file_extension": ".py",
   "mimetype": "text/x-python",
   "name": "python",
   "nbconvert_exporter": "python",
   "pygments_lexer": "ipython3",
   "version": "3.7.7"
  }
 },
 "nbformat": 4,
 "nbformat_minor": 4
}
